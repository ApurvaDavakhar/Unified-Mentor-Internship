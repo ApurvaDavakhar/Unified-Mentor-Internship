{
 "cells": [
  {
   "cell_type": "code",
   "execution_count": 3,
   "id": "c93c0c66-2343-488c-814a-6d6d0254dc09",
   "metadata": {},
   "outputs": [
    {
     "name": "stdout",
     "output_type": "stream",
     "text": [
      "Saii\n"
     ]
    }
   ],
   "source": [
    "print(\"Saii\")"
   ]
  },
  {
   "cell_type": "code",
   "execution_count": 7,
   "id": "1a7f4312-5880-45a9-b53b-0094264d6460",
   "metadata": {},
   "outputs": [
    {
     "name": "stdout",
     "output_type": "stream",
     "text": [
      "Saii\n"
     ]
    }
   ],
   "source": [
    "name = 'Saii'\n",
    "print(name)"
   ]
  },
  {
   "cell_type": "code",
   "execution_count": 9,
   "id": "63ed62ca-49a8-4201-bd77-3fcdfd69bfb8",
   "metadata": {},
   "outputs": [
    {
     "data": {
      "text/plain": [
       "'Rishi'"
      ]
     },
     "execution_count": 9,
     "metadata": {},
     "output_type": "execute_result"
    }
   ],
   "source": [
    "# Python Data types\n",
    "# Text Type: str, Numeric: int, float; Seq: list, tuple, range ; Mapping: dict; Set Types: set; Boolean: bool\n",
    "\n",
    "str('Rishi')"
   ]
  },
  {
   "cell_type": "code",
   "execution_count": 11,
   "id": "648be0e5-c370-4b71-995e-66a76362cd3e",
   "metadata": {},
   "outputs": [
    {
     "name": "stdout",
     "output_type": "stream",
     "text": [
      "Rishi\n"
     ]
    }
   ],
   "source": [
    "name = 'Rishi'\n",
    "print(name)"
   ]
  },
  {
   "cell_type": "code",
   "execution_count": 13,
   "id": "7ac92e80-8c4c-421e-be97-ebdc3a85c59d",
   "metadata": {},
   "outputs": [
    {
     "name": "stdout",
     "output_type": "stream",
     "text": [
      "22\n"
     ]
    }
   ],
   "source": [
    "name = 'Rishi'\n",
    "age = 22\n",
    "percent = 99.9\n",
    "\n",
    "print(age)"
   ]
  },
  {
   "cell_type": "code",
   "execution_count": 15,
   "id": "3f72b9ef-6242-49be-9e46-572d9a03a0ff",
   "metadata": {},
   "outputs": [
    {
     "data": {
      "text/plain": [
       "str"
      ]
     },
     "execution_count": 15,
     "metadata": {},
     "output_type": "execute_result"
    }
   ],
   "source": [
    "type(name)"
   ]
  },
  {
   "cell_type": "code",
   "execution_count": 31,
   "id": "6db6cc0a-8dd2-416a-baad-45c81f90df02",
   "metadata": {},
   "outputs": [],
   "source": [
    "student4 = (\"Rishi, 22, 90.2\")\n",
    "student1 = ('Rishi', 22, 90.2) #Cannot modify it\n",
    "student2 = ['Sai, 21, 99.3']   # Can \n",
    "student3 = {'Sak, 22, 96.8'}   # Random output"
   ]
  },
  {
   "cell_type": "code",
   "execution_count": 33,
   "id": "f0aab4ea-8644-4fcc-a600-f9fb67607938",
   "metadata": {},
   "outputs": [
    {
     "data": {
      "text/plain": [
       "(str, tuple, list, set)"
      ]
     },
     "execution_count": 33,
     "metadata": {},
     "output_type": "execute_result"
    }
   ],
   "source": [
    "type(student4), type(student1), type(student2), type(student3)"
   ]
  },
  {
   "cell_type": "code",
   "execution_count": 35,
   "id": "230d1249-de6b-447f-a7c4-7aafc63c31dc",
   "metadata": {},
   "outputs": [
    {
     "name": "stdout",
     "output_type": "stream",
     "text": [
      "range(0, 5)\n"
     ]
    }
   ],
   "source": [
    "print(range(5))"
   ]
  },
  {
   "cell_type": "code",
   "execution_count": 52,
   "id": "c8f2c437-8bf5-44b5-9ea7-828917f5d745",
   "metadata": {},
   "outputs": [
    {
     "data": {
      "text/plain": [
       "dict_values(['Rishi', 21, 90.2])"
      ]
     },
     "execution_count": 52,
     "metadata": {},
     "output_type": "execute_result"
    }
   ],
   "source": [
    "student = {'Name':'Rishi','Age':21,'Percent':90.2}\n",
    "student.values()"
   ]
  },
  {
   "cell_type": "code",
   "execution_count": 54,
   "id": "f5dd2937-6686-4ee8-bda0-28d5d0cd59c9",
   "metadata": {},
   "outputs": [
    {
     "data": {
      "text/plain": [
       "False"
      ]
     },
     "execution_count": 54,
     "metadata": {},
     "output_type": "execute_result"
    }
   ],
   "source": [
    "bool(0)"
   ]
  },
  {
   "cell_type": "code",
   "execution_count": 56,
   "id": "05875bdf-45e7-4e3a-9ff1-1691502cbc9b",
   "metadata": {},
   "outputs": [
    {
     "data": {
      "text/plain": [
       "True"
      ]
     },
     "execution_count": 56,
     "metadata": {},
     "output_type": "execute_result"
    }
   ],
   "source": [
    "bool(1)"
   ]
  },
  {
   "cell_type": "code",
   "execution_count": 58,
   "id": "c551b187-8b3d-40d9-b152-22896f5f084b",
   "metadata": {},
   "outputs": [],
   "source": [
    "# Arithmetic operator\n",
    "\n",
    "x = 6\n",
    "y = 2"
   ]
  },
  {
   "cell_type": "code",
   "execution_count": 64,
   "id": "f22fc3aa-6dce-4f09-ad71-17ecb102030c",
   "metadata": {},
   "outputs": [],
   "source": [
    "# print(x+y,x*y, x/y, x%y, x**y)\n",
    "\n",
    "# Assignment Operator ('=,+=,-=,*=,/=,%=,**=')\n",
    "# print('x = y, x+= y, x -= y, x %= y, x /= y, x **= y')\n",
    "\n",
    "# Comparison Operator (' ==, !=, <, >, <=, >=')\n",
    "# Logical print(x and y, x or y, not y)\n",
    "# Membership print(x in y, x not in y)"
   ]
  },
  {
   "cell_type": "code",
   "execution_count": 66,
   "id": "0ec97321-558b-42dc-908c-80d8436db3ba",
   "metadata": {},
   "outputs": [
    {
     "data": {
      "text/plain": [
       "True"
      ]
     },
     "execution_count": 66,
     "metadata": {},
     "output_type": "execute_result"
    }
   ],
   "source": [
    "not((x < y) or (x == y))"
   ]
  },
  {
   "cell_type": "code",
   "execution_count": 68,
   "id": "67441b63-d1fa-41f4-bca7-de8a2bd761b6",
   "metadata": {},
   "outputs": [
    {
     "data": {
      "text/plain": [
       "False"
      ]
     },
     "execution_count": 68,
     "metadata": {},
     "output_type": "execute_result"
    }
   ],
   "source": [
    "x = [1,2,3,4,5]\n",
    "y = 6\n",
    "\n",
    "y in x"
   ]
  },
  {
   "cell_type": "code",
   "execution_count": null,
   "id": "730bb949-8e11-47a4-8614-5ab7041831b8",
   "metadata": {},
   "outputs": [],
   "source": []
  }
 ],
 "metadata": {
  "kernelspec": {
   "display_name": "Python 3 (ipykernel)",
   "language": "python",
   "name": "python3"
  },
  "language_info": {
   "codemirror_mode": {
    "name": "ipython",
    "version": 3
   },
   "file_extension": ".py",
   "mimetype": "text/x-python",
   "name": "python",
   "nbconvert_exporter": "python",
   "pygments_lexer": "ipython3",
   "version": "3.12.4"
  }
 },
 "nbformat": 4,
 "nbformat_minor": 5
}
